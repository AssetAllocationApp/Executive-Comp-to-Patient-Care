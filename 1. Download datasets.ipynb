{
 "cells": [
  {
   "cell_type": "code",
   "execution_count": 2,
   "id": "49a644b2-fbc9-429b-9fd4-7248b006aead",
   "metadata": {},
   "outputs": [],
   "source": [
    "import os\n",
    "import project_utils as u \n",
    "\n",
    "FORM_990_EXTRACT_PATH = \"./data/form_990/\"\n",
    "FORM_990_ZIP_PATH = \"./load/form_990/\"\n",
    "FORM_990_PROCESSED_PATH = \"./processed/form_990/\"\n",
    "\n",
    "\n",
    "CMS_YEAR = 2022\n",
    "CMS_DATASET_ID = f\"hospitals_10_2022\"\n",
    "CMS_URL = f'https://data.cms.gov/provider-data/sites/default/files/archive/Hospitals/{CMS_YEAR}/{CMS_DATASET_ID}.zip'\n",
    "CMS_ZIP_PATH = f\"./load/hospitals/\"\n",
    "CMS_EXTRACT_PATH = f\"data/hospitals/\"\n",
    "\n",
    "\n",
    "COM_INSIGHT_URL = 'https://www.communitybenefitinsight.org/api/get_hospitals.php'\n",
    "\n",
    "COST_REPORT_PATH = './data/cost_report/'\n",
    "\n",
    "FORM_990_BASE_URL = \"https://apps.irs.gov/pub/epostcard/990/xml\"\n",
    "FORM_990_URLS = []\n",
    "\n",
    "FORM_990_URLS.append(os.path.join(FORM_990_BASE_URL, \"2022\", \"2022_TEOS_XML_01A.zip\"))\n",
    "\n",
    "# WARNING: This will take 10s of GB\n",
    "for i in range(1, 13):\n",
    "    if i < 10:\n",
    "        idx_name = f\"0{i}\"\n",
    "    else:\n",
    "        idx_name = str(i)\n",
    "    FORM_990_URLS.append(os.path.join(FORM_990_BASE_URL, \"2023\", f\"2023_TEOS_XML_{idx_name}A.zip\"))\n",
    "    FORM_990_URLS.append(os.path.join(FORM_990_BASE_URL, \"2024\", f\"2024_TEOS_XML_{idx_name}A.zip\"))\n"
   ]
  },
  {
   "cell_type": "code",
   "execution_count": 3,
   "id": "530c610c-df83-4180-bec8-25e975cc6030",
   "metadata": {},
   "outputs": [
    {
     "name": "stdout",
     "output_type": "stream",
     "text": [
      "https://apps.irs.gov/pub/epostcard/990/xml/2022/2022_TEOS_XML_01A.zip already saved at ./data/form_990/2022/01. Skipping...\n",
      "https://apps.irs.gov/pub/epostcard/990/xml/2023/2023_TEOS_XML_01A.zip already saved at ./data/form_990/2023/01. Skipping...\n",
      "https://apps.irs.gov/pub/epostcard/990/xml/2024/2024_TEOS_XML_01A.zip already saved at ./data/form_990/2024/01. Skipping...\n",
      "https://apps.irs.gov/pub/epostcard/990/xml/2023/2023_TEOS_XML_02A.zip already saved at ./data/form_990/2023/02. Skipping...\n",
      "https://apps.irs.gov/pub/epostcard/990/xml/2024/2024_TEOS_XML_02A.zip already saved at ./data/form_990/2024/02. Skipping...\n",
      "https://apps.irs.gov/pub/epostcard/990/xml/2023/2023_TEOS_XML_03A.zip already saved at ./data/form_990/2023/03. Skipping...\n",
      "https://apps.irs.gov/pub/epostcard/990/xml/2024/2024_TEOS_XML_03A.zip already saved at ./data/form_990/2024/03. Skipping...\n",
      "https://apps.irs.gov/pub/epostcard/990/xml/2023/2023_TEOS_XML_04A.zip already saved at ./data/form_990/2023/04. Skipping...\n",
      "https://apps.irs.gov/pub/epostcard/990/xml/2024/2024_TEOS_XML_04A.zip already saved at ./data/form_990/2024/04. Skipping...\n",
      "https://apps.irs.gov/pub/epostcard/990/xml/2023/2023_TEOS_XML_05A.zip already saved at ./data/form_990/2023/05. Skipping...\n",
      "https://apps.irs.gov/pub/epostcard/990/xml/2024/2024_TEOS_XML_05A.zip already saved at ./data/form_990/2024/05. Skipping...\n",
      "https://apps.irs.gov/pub/epostcard/990/xml/2023/2023_TEOS_XML_06A.zip already saved at ./data/form_990/2023/06. Skipping...\n",
      "https://apps.irs.gov/pub/epostcard/990/xml/2024/2024_TEOS_XML_06A.zip already saved at ./data/form_990/2024/06. Skipping...\n",
      "https://apps.irs.gov/pub/epostcard/990/xml/2023/2023_TEOS_XML_07A.zip already saved at ./data/form_990/2023/07. Skipping...\n",
      "https://apps.irs.gov/pub/epostcard/990/xml/2024/2024_TEOS_XML_07A.zip already saved at ./data/form_990/2024/07. Skipping...\n",
      "https://apps.irs.gov/pub/epostcard/990/xml/2023/2023_TEOS_XML_08A.zip already saved at ./data/form_990/2023/08. Skipping...\n",
      "https://apps.irs.gov/pub/epostcard/990/xml/2024/2024_TEOS_XML_08A.zip already saved at ./data/form_990/2024/08. Skipping...\n",
      "https://apps.irs.gov/pub/epostcard/990/xml/2023/2023_TEOS_XML_09A.zip already saved at ./data/form_990/2023/09. Skipping...\n",
      "https://apps.irs.gov/pub/epostcard/990/xml/2024/2024_TEOS_XML_09A.zip already saved at ./data/form_990/2024/09. Skipping...\n",
      "https://apps.irs.gov/pub/epostcard/990/xml/2023/2023_TEOS_XML_10A.zip already saved at ./data/form_990/2023/10. Skipping...\n",
      "https://apps.irs.gov/pub/epostcard/990/xml/2024/2024_TEOS_XML_10A.zip already saved at ./data/form_990/2024/10. Skipping...\n",
      "https://apps.irs.gov/pub/epostcard/990/xml/2023/2023_TEOS_XML_11A.zip already saved at ./data/form_990/2023/11. Skipping...\n",
      "https://apps.irs.gov/pub/epostcard/990/xml/2024/2024_TEOS_XML_11A.zip already saved at ./data/form_990/2024/11. Skipping...\n",
      "https://apps.irs.gov/pub/epostcard/990/xml/2023/2023_TEOS_XML_12A.zip already saved at ./data/form_990/2023/12. Skipping...\n",
      "https://apps.irs.gov/pub/epostcard/990/xml/2024/2024_TEOS_XML_12A.zip already saved at ./data/form_990/2024/12. Skipping...\n",
      "./load/hospitals/hospitals_10_2022.zip already exists. Skipping download\n",
      "unzipping ./load/hospitals/hospitals_10_2022.zip to data/hospitals/...\n"
     ]
    },
    {
     "name": "stderr",
     "output_type": "stream",
     "text": [
      "100%|█████████████████████████████████████████████████████████████████████████████████████████████████████████████████████████████████████████████████████████████████████████████████████████████████████████████████████████████████████████| 78/78 [00:01<00:00, 77.47it/s]"
     ]
    },
    {
     "name": "stdout",
     "output_type": "stream",
     "text": [
      "Cost report already downloaded\n"
     ]
    },
    {
     "name": "stderr",
     "output_type": "stream",
     "text": [
      "\n"
     ]
    }
   ],
   "source": [
    "u.download_990s(FORM_990_URLS, FORM_990_ZIP_PATH, FORM_990_EXTRACT_PATH)\n",
    "cms_root_path = u.get_cms_data(CMS_URL, CMS_ZIP_PATH, CMS_EXTRACT_PATH, CMS_DATASET_ID)\n",
    "bridge = u.get_bridge_file()\n",
    "u.download_cost_report(COST_REPORT_PATH)"
   ]
  },
  {
   "cell_type": "code",
   "execution_count": null,
   "id": "957eda77-a102-4d6d-8900-06b7b552b5a5",
   "metadata": {},
   "outputs": [],
   "source": []
  }
 ],
 "metadata": {
  "kernelspec": {
   "display_name": "Python 3 (ipykernel)",
   "language": "python",
   "name": "python3"
  },
  "language_info": {
   "codemirror_mode": {
    "name": "ipython",
    "version": 3
   },
   "file_extension": ".py",
   "mimetype": "text/x-python",
   "name": "python",
   "nbconvert_exporter": "python",
   "pygments_lexer": "ipython3",
   "version": "3.12.1"
  }
 },
 "nbformat": 4,
 "nbformat_minor": 5
}
